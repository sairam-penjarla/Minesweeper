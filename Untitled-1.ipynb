{
 "cells": [
  {
   "cell_type": "code",
   "execution_count": 1,
   "metadata": {},
   "outputs": [],
   "source": [
    "import random"
   ]
  },
  {
   "cell_type": "code",
   "execution_count": 4,
   "metadata": {},
   "outputs": [],
   "source": [
    "\n",
    "class generate_board():\n",
    "    def __init__(self, n_bombs, n_rows, n_cols):\n",
    "        self.columns = []\n",
    "        self.n_bombs = n_bombs\n",
    "        self.row_count = n_rows\n",
    "        self.col_count = n_cols\n",
    "        self.cell = self.cell\n",
    "        has_bomb = [True, False]\n",
    "    class cell:\n",
    "        def __init__(self, bomb, val):\n",
    "            self.bomb = bomb\n",
    "            self.value = val\n",
    "    def get_surounding_bombs(self, row,col):\n",
    "        count = 0\n",
    "        for i in range(-1,2):\n",
    "            for j in range(-1,2):\n",
    "                if (row,col) != (row+i,col+j):\n",
    "                    if self.columns[row+i][col+j].value == -1:\n",
    "                        count += 1\n",
    "        return count\n",
    "    def start_gen(self):\n",
    "        for i in range(0,self.row_count):\n",
    "            rows=[]\n",
    "            for x in range(self.col_count):\n",
    "                temp_cell = self.cell(False,0)\n",
    "                rows.append(temp_cell)\n",
    "            self.columns.append(rows)\n",
    "        \n",
    "        for i in range(0,self.n_bombs):\n",
    "            row = random.randint(1,self.row_count-2)\n",
    "            col = random.randint(1,self.col_count-2)\n",
    "            self.columns[row][col].bomb = True\n",
    "            self.columns[row][col].value = -1\n",
    "            \n",
    "        for row_count in range(1,self.row_count-1):\n",
    "            for col_count in range(1,self.col_count-1):\n",
    "                if self.columns[row_count][col_count].bomb != True:\n",
    "                    self.columns[row_count][col_count].value = self.get_surounding_bombs(row_count,col_count)\n",
    "        self.columns = [x[1:-1] for x in self.columns[1:-1]]\n",
    "        for row in self.columns:\n",
    "            print([x.value for x in row])\n"
   ]
  },
  {
   "cell_type": "code",
   "execution_count": 5,
   "metadata": {},
   "outputs": [
    {
     "name": "stdout",
     "output_type": "stream",
     "text": [
      "[0, 1, 1, 2, -1, -1, 1, 0]\n",
      "[1, 3, -1, 3, 3, 3, 2, 0]\n",
      "[-1, 3, -1, 2, 1, -1, 1, 0]\n",
      "[1, 2, 1, 1, 2, 3, 3, 1]\n",
      "[0, 0, 0, 0, 2, -1, -1, 2]\n",
      "[0, 1, 1, 1, 2, -1, 4, -1]\n",
      "[0, 1, -1, 1, 1, 1, 2, 1]\n",
      "[0, 1, 1, 1, 0, 0, 0, 0]\n"
     ]
    }
   ],
   "source": [
    "generate_board( 12, 10, 10).start_gen()"
   ]
  }
 ],
 "metadata": {
  "kernelspec": {
   "display_name": "Python 3.10.1 64-bit",
   "language": "python",
   "name": "python3"
  },
  "language_info": {
   "codemirror_mode": {
    "name": "ipython",
    "version": 3
   },
   "file_extension": ".py",
   "mimetype": "text/x-python",
   "name": "python",
   "nbconvert_exporter": "python",
   "pygments_lexer": "ipython3",
   "version": "3.10.1"
  },
  "orig_nbformat": 4,
  "vscode": {
   "interpreter": {
    "hash": "aee8b7b246df8f9039afb4144a1f6fd8d2ca17a180786b69acc140d282b71a49"
   }
  }
 },
 "nbformat": 4,
 "nbformat_minor": 2
}
